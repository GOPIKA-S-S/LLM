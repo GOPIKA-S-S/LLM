{
  "nbformat": 4,
  "nbformat_minor": 0,
  "metadata": {
    "colab": {
      "provenance": [],
      "gpuType": "T4",
      "include_colab_link": true
    },
    "kernelspec": {
      "name": "python3",
      "display_name": "Python 3"
    },
    "language_info": {
      "name": "python"
    },
    "accelerator": "GPU"
  },
  "cells": [
    {
      "cell_type": "markdown",
      "metadata": {
        "id": "view-in-github",
        "colab_type": "text"
      },
      "source": [
        "<a href=\"https://colab.research.google.com/github/GOPIKA-S-S/LLM/blob/main/2348518_Lab6.ipynb\" target=\"_parent\"><img src=\"https://colab.research.google.com/assets/colab-badge.svg\" alt=\"Open In Colab\"/></a>"
      ]
    },
    {
      "cell_type": "markdown",
      "source": [
        "### Importing the dataset"
      ],
      "metadata": {
        "id": "4aT6WfOew3Nk"
      }
    },
    {
      "cell_type": "code",
      "execution_count": null,
      "metadata": {
        "colab": {
          "base_uri": "https://localhost:8080/",
          "height": 206
        },
        "id": "87-xYg1zfC6U",
        "outputId": "b318c874-a52d-4ae4-975a-4acf3bcfa833"
      },
      "outputs": [
        {
          "output_type": "execute_result",
          "data": {
            "text/plain": [
              "   Unnamed: 0                                   english_sentence  \\\n",
              "0           0  politicians do not have permission to do what ...   \n",
              "1           1         I'd like to tell you about one such child,   \n",
              "2           2  This percentage is even greater than the perce...   \n",
              "3           3  what we really mean is that they're bad at not...   \n",
              "4           4  .The ending portion of these Vedas is called U...   \n",
              "\n",
              "                                      hindi_sentence  \n",
              "0  राजनीतिज्ञों के पास जो कार्य करना चाहिए, वह कर...  \n",
              "1  मई आपको ऐसे ही एक बच्चे के बारे में बताना चाहू...  \n",
              "2   यह प्रतिशत भारत में हिन्दुओं प्रतिशत से अधिक है।  \n",
              "3     हम ये नहीं कहना चाहते कि वो ध्यान नहीं दे पाते  \n",
              "4        इन्हीं वेदों का अंतिम भाग उपनिषद कहलाता है।  "
            ],
            "text/html": [
              "\n",
              "  <div id=\"df-beb175fd-ab17-48e2-9f51-4a2ae0c767fb\" class=\"colab-df-container\">\n",
              "    <div>\n",
              "<style scoped>\n",
              "    .dataframe tbody tr th:only-of-type {\n",
              "        vertical-align: middle;\n",
              "    }\n",
              "\n",
              "    .dataframe tbody tr th {\n",
              "        vertical-align: top;\n",
              "    }\n",
              "\n",
              "    .dataframe thead th {\n",
              "        text-align: right;\n",
              "    }\n",
              "</style>\n",
              "<table border=\"1\" class=\"dataframe\">\n",
              "  <thead>\n",
              "    <tr style=\"text-align: right;\">\n",
              "      <th></th>\n",
              "      <th>Unnamed: 0</th>\n",
              "      <th>english_sentence</th>\n",
              "      <th>hindi_sentence</th>\n",
              "    </tr>\n",
              "  </thead>\n",
              "  <tbody>\n",
              "    <tr>\n",
              "      <th>0</th>\n",
              "      <td>0</td>\n",
              "      <td>politicians do not have permission to do what ...</td>\n",
              "      <td>राजनीतिज्ञों के पास जो कार्य करना चाहिए, वह कर...</td>\n",
              "    </tr>\n",
              "    <tr>\n",
              "      <th>1</th>\n",
              "      <td>1</td>\n",
              "      <td>I'd like to tell you about one such child,</td>\n",
              "      <td>मई आपको ऐसे ही एक बच्चे के बारे में बताना चाहू...</td>\n",
              "    </tr>\n",
              "    <tr>\n",
              "      <th>2</th>\n",
              "      <td>2</td>\n",
              "      <td>This percentage is even greater than the perce...</td>\n",
              "      <td>यह प्रतिशत भारत में हिन्दुओं प्रतिशत से अधिक है।</td>\n",
              "    </tr>\n",
              "    <tr>\n",
              "      <th>3</th>\n",
              "      <td>3</td>\n",
              "      <td>what we really mean is that they're bad at not...</td>\n",
              "      <td>हम ये नहीं कहना चाहते कि वो ध्यान नहीं दे पाते</td>\n",
              "    </tr>\n",
              "    <tr>\n",
              "      <th>4</th>\n",
              "      <td>4</td>\n",
              "      <td>.The ending portion of these Vedas is called U...</td>\n",
              "      <td>इन्हीं वेदों का अंतिम भाग उपनिषद कहलाता है।</td>\n",
              "    </tr>\n",
              "  </tbody>\n",
              "</table>\n",
              "</div>\n",
              "    <div class=\"colab-df-buttons\">\n",
              "\n",
              "  <div class=\"colab-df-container\">\n",
              "    <button class=\"colab-df-convert\" onclick=\"convertToInteractive('df-beb175fd-ab17-48e2-9f51-4a2ae0c767fb')\"\n",
              "            title=\"Convert this dataframe to an interactive table.\"\n",
              "            style=\"display:none;\">\n",
              "\n",
              "  <svg xmlns=\"http://www.w3.org/2000/svg\" height=\"24px\" viewBox=\"0 -960 960 960\">\n",
              "    <path d=\"M120-120v-720h720v720H120Zm60-500h600v-160H180v160Zm220 220h160v-160H400v160Zm0 220h160v-160H400v160ZM180-400h160v-160H180v160Zm440 0h160v-160H620v160ZM180-180h160v-160H180v160Zm440 0h160v-160H620v160Z\"/>\n",
              "  </svg>\n",
              "    </button>\n",
              "\n",
              "  <style>\n",
              "    .colab-df-container {\n",
              "      display:flex;\n",
              "      gap: 12px;\n",
              "    }\n",
              "\n",
              "    .colab-df-convert {\n",
              "      background-color: #E8F0FE;\n",
              "      border: none;\n",
              "      border-radius: 50%;\n",
              "      cursor: pointer;\n",
              "      display: none;\n",
              "      fill: #1967D2;\n",
              "      height: 32px;\n",
              "      padding: 0 0 0 0;\n",
              "      width: 32px;\n",
              "    }\n",
              "\n",
              "    .colab-df-convert:hover {\n",
              "      background-color: #E2EBFA;\n",
              "      box-shadow: 0px 1px 2px rgba(60, 64, 67, 0.3), 0px 1px 3px 1px rgba(60, 64, 67, 0.15);\n",
              "      fill: #174EA6;\n",
              "    }\n",
              "\n",
              "    .colab-df-buttons div {\n",
              "      margin-bottom: 4px;\n",
              "    }\n",
              "\n",
              "    [theme=dark] .colab-df-convert {\n",
              "      background-color: #3B4455;\n",
              "      fill: #D2E3FC;\n",
              "    }\n",
              "\n",
              "    [theme=dark] .colab-df-convert:hover {\n",
              "      background-color: #434B5C;\n",
              "      box-shadow: 0px 1px 3px 1px rgba(0, 0, 0, 0.15);\n",
              "      filter: drop-shadow(0px 1px 2px rgba(0, 0, 0, 0.3));\n",
              "      fill: #FFFFFF;\n",
              "    }\n",
              "  </style>\n",
              "\n",
              "    <script>\n",
              "      const buttonEl =\n",
              "        document.querySelector('#df-beb175fd-ab17-48e2-9f51-4a2ae0c767fb button.colab-df-convert');\n",
              "      buttonEl.style.display =\n",
              "        google.colab.kernel.accessAllowed ? 'block' : 'none';\n",
              "\n",
              "      async function convertToInteractive(key) {\n",
              "        const element = document.querySelector('#df-beb175fd-ab17-48e2-9f51-4a2ae0c767fb');\n",
              "        const dataTable =\n",
              "          await google.colab.kernel.invokeFunction('convertToInteractive',\n",
              "                                                    [key], {});\n",
              "        if (!dataTable) return;\n",
              "\n",
              "        const docLinkHtml = 'Like what you see? Visit the ' +\n",
              "          '<a target=\"_blank\" href=https://colab.research.google.com/notebooks/data_table.ipynb>data table notebook</a>'\n",
              "          + ' to learn more about interactive tables.';\n",
              "        element.innerHTML = '';\n",
              "        dataTable['output_type'] = 'display_data';\n",
              "        await google.colab.output.renderOutput(dataTable, element);\n",
              "        const docLink = document.createElement('div');\n",
              "        docLink.innerHTML = docLinkHtml;\n",
              "        element.appendChild(docLink);\n",
              "      }\n",
              "    </script>\n",
              "  </div>\n",
              "\n",
              "\n",
              "<div id=\"df-2108950f-6399-47ee-b807-017a0225744a\">\n",
              "  <button class=\"colab-df-quickchart\" onclick=\"quickchart('df-2108950f-6399-47ee-b807-017a0225744a')\"\n",
              "            title=\"Suggest charts\"\n",
              "            style=\"display:none;\">\n",
              "\n",
              "<svg xmlns=\"http://www.w3.org/2000/svg\" height=\"24px\"viewBox=\"0 0 24 24\"\n",
              "     width=\"24px\">\n",
              "    <g>\n",
              "        <path d=\"M19 3H5c-1.1 0-2 .9-2 2v14c0 1.1.9 2 2 2h14c1.1 0 2-.9 2-2V5c0-1.1-.9-2-2-2zM9 17H7v-7h2v7zm4 0h-2V7h2v10zm4 0h-2v-4h2v4z\"/>\n",
              "    </g>\n",
              "</svg>\n",
              "  </button>\n",
              "\n",
              "<style>\n",
              "  .colab-df-quickchart {\n",
              "      --bg-color: #E8F0FE;\n",
              "      --fill-color: #1967D2;\n",
              "      --hover-bg-color: #E2EBFA;\n",
              "      --hover-fill-color: #174EA6;\n",
              "      --disabled-fill-color: #AAA;\n",
              "      --disabled-bg-color: #DDD;\n",
              "  }\n",
              "\n",
              "  [theme=dark] .colab-df-quickchart {\n",
              "      --bg-color: #3B4455;\n",
              "      --fill-color: #D2E3FC;\n",
              "      --hover-bg-color: #434B5C;\n",
              "      --hover-fill-color: #FFFFFF;\n",
              "      --disabled-bg-color: #3B4455;\n",
              "      --disabled-fill-color: #666;\n",
              "  }\n",
              "\n",
              "  .colab-df-quickchart {\n",
              "    background-color: var(--bg-color);\n",
              "    border: none;\n",
              "    border-radius: 50%;\n",
              "    cursor: pointer;\n",
              "    display: none;\n",
              "    fill: var(--fill-color);\n",
              "    height: 32px;\n",
              "    padding: 0;\n",
              "    width: 32px;\n",
              "  }\n",
              "\n",
              "  .colab-df-quickchart:hover {\n",
              "    background-color: var(--hover-bg-color);\n",
              "    box-shadow: 0 1px 2px rgba(60, 64, 67, 0.3), 0 1px 3px 1px rgba(60, 64, 67, 0.15);\n",
              "    fill: var(--button-hover-fill-color);\n",
              "  }\n",
              "\n",
              "  .colab-df-quickchart-complete:disabled,\n",
              "  .colab-df-quickchart-complete:disabled:hover {\n",
              "    background-color: var(--disabled-bg-color);\n",
              "    fill: var(--disabled-fill-color);\n",
              "    box-shadow: none;\n",
              "  }\n",
              "\n",
              "  .colab-df-spinner {\n",
              "    border: 2px solid var(--fill-color);\n",
              "    border-color: transparent;\n",
              "    border-bottom-color: var(--fill-color);\n",
              "    animation:\n",
              "      spin 1s steps(1) infinite;\n",
              "  }\n",
              "\n",
              "  @keyframes spin {\n",
              "    0% {\n",
              "      border-color: transparent;\n",
              "      border-bottom-color: var(--fill-color);\n",
              "      border-left-color: var(--fill-color);\n",
              "    }\n",
              "    20% {\n",
              "      border-color: transparent;\n",
              "      border-left-color: var(--fill-color);\n",
              "      border-top-color: var(--fill-color);\n",
              "    }\n",
              "    30% {\n",
              "      border-color: transparent;\n",
              "      border-left-color: var(--fill-color);\n",
              "      border-top-color: var(--fill-color);\n",
              "      border-right-color: var(--fill-color);\n",
              "    }\n",
              "    40% {\n",
              "      border-color: transparent;\n",
              "      border-right-color: var(--fill-color);\n",
              "      border-top-color: var(--fill-color);\n",
              "    }\n",
              "    60% {\n",
              "      border-color: transparent;\n",
              "      border-right-color: var(--fill-color);\n",
              "    }\n",
              "    80% {\n",
              "      border-color: transparent;\n",
              "      border-right-color: var(--fill-color);\n",
              "      border-bottom-color: var(--fill-color);\n",
              "    }\n",
              "    90% {\n",
              "      border-color: transparent;\n",
              "      border-bottom-color: var(--fill-color);\n",
              "    }\n",
              "  }\n",
              "</style>\n",
              "\n",
              "  <script>\n",
              "    async function quickchart(key) {\n",
              "      const quickchartButtonEl =\n",
              "        document.querySelector('#' + key + ' button');\n",
              "      quickchartButtonEl.disabled = true;  // To prevent multiple clicks.\n",
              "      quickchartButtonEl.classList.add('colab-df-spinner');\n",
              "      try {\n",
              "        const charts = await google.colab.kernel.invokeFunction(\n",
              "            'suggestCharts', [key], {});\n",
              "      } catch (error) {\n",
              "        console.error('Error during call to suggestCharts:', error);\n",
              "      }\n",
              "      quickchartButtonEl.classList.remove('colab-df-spinner');\n",
              "      quickchartButtonEl.classList.add('colab-df-quickchart-complete');\n",
              "    }\n",
              "    (() => {\n",
              "      let quickchartButtonEl =\n",
              "        document.querySelector('#df-2108950f-6399-47ee-b807-017a0225744a button');\n",
              "      quickchartButtonEl.style.display =\n",
              "        google.colab.kernel.accessAllowed ? 'block' : 'none';\n",
              "    })();\n",
              "  </script>\n",
              "</div>\n",
              "\n",
              "    </div>\n",
              "  </div>\n"
            ],
            "application/vnd.google.colaboratory.intrinsic+json": {
              "type": "dataframe",
              "variable_name": "data"
            }
          },
          "metadata": {},
          "execution_count": 19
        }
      ],
      "source": [
        "import pandas as pd\n",
        "data=pd.read_csv('/content/newdata[1].csv')\n",
        "data.head()"
      ]
    },
    {
      "cell_type": "markdown",
      "source": [
        "### Loading the Tokenizer and model"
      ],
      "metadata": {
        "id": "gMmL66TKw8HJ"
      }
    },
    {
      "cell_type": "code",
      "source": [
        "from transformers import MarianTokenizer, TFMarianMTModel\n",
        "tokenizer=MarianTokenizer.from_pretrained(\"Helsinki-NLP/opus-mt-en-hi\")\n",
        "model=TFMarianMTModel.from_pretrained(\"Helsinki-NLP/opus-mt-en-hi\")"
      ],
      "metadata": {
        "colab": {
          "base_uri": "https://localhost:8080/"
        },
        "id": "LuxTw4sSgLEB",
        "outputId": "8bd3c450-c129-41a0-e1c7-134a4214a267"
      },
      "execution_count": null,
      "outputs": [
        {
          "output_type": "stream",
          "name": "stderr",
          "text": [
            "/usr/local/lib/python3.10/dist-packages/transformers/models/marian/tokenization_marian.py:175: UserWarning: Recommended: pip install sacremoses.\n",
            "  warnings.warn(\"Recommended: pip install sacremoses.\")\n",
            "All model checkpoint layers were used when initializing TFMarianMTModel.\n",
            "\n",
            "All the layers of TFMarianMTModel were initialized from the model checkpoint at Helsinki-NLP/opus-mt-en-hi.\n",
            "If your task is similar to the task the model of the checkpoint was trained on, you can already use TFMarianMTModel for predictions without further training.\n"
          ]
        }
      ]
    },
    {
      "cell_type": "code",
      "source": [
        "de=data['english_sentence']"
      ],
      "metadata": {
        "id": "P74br-uYyqll"
      },
      "execution_count": null,
      "outputs": []
    },
    {
      "cell_type": "code",
      "source": [
        "de"
      ],
      "metadata": {
        "colab": {
          "base_uri": "https://localhost:8080/",
          "height": 458
        },
        "id": "wEjyU8Pez_8i",
        "outputId": "e768ccc2-669a-4a79-c90c-b5cbe7327d6f"
      },
      "execution_count": null,
      "outputs": [
        {
          "output_type": "execute_result",
          "data": {
            "text/plain": [
              "0         politicians do not have permission to do what ...\n",
              "1                I'd like to tell you about one such child,\n",
              "2         This percentage is even greater than the perce...\n",
              "3         what we really mean is that they're bad at not...\n",
              "4         .The ending portion of these Vedas is called U...\n",
              "                                ...                        \n",
              "177601                      He asked you saw tiger or not .\n",
              "177602                  These words pricked like an arrow .\n",
              "177603                                   I slowly said no .\n",
              "177604    There was no permission to take bike inside th...\n",
              "177605    Somebody advised us that we should take safari...\n",
              "Name: english_sentence, Length: 177606, dtype: object"
            ],
            "text/html": [
              "<div>\n",
              "<style scoped>\n",
              "    .dataframe tbody tr th:only-of-type {\n",
              "        vertical-align: middle;\n",
              "    }\n",
              "\n",
              "    .dataframe tbody tr th {\n",
              "        vertical-align: top;\n",
              "    }\n",
              "\n",
              "    .dataframe thead th {\n",
              "        text-align: right;\n",
              "    }\n",
              "</style>\n",
              "<table border=\"1\" class=\"dataframe\">\n",
              "  <thead>\n",
              "    <tr style=\"text-align: right;\">\n",
              "      <th></th>\n",
              "      <th>english_sentence</th>\n",
              "    </tr>\n",
              "  </thead>\n",
              "  <tbody>\n",
              "    <tr>\n",
              "      <th>0</th>\n",
              "      <td>politicians do not have permission to do what ...</td>\n",
              "    </tr>\n",
              "    <tr>\n",
              "      <th>1</th>\n",
              "      <td>I'd like to tell you about one such child,</td>\n",
              "    </tr>\n",
              "    <tr>\n",
              "      <th>2</th>\n",
              "      <td>This percentage is even greater than the perce...</td>\n",
              "    </tr>\n",
              "    <tr>\n",
              "      <th>3</th>\n",
              "      <td>what we really mean is that they're bad at not...</td>\n",
              "    </tr>\n",
              "    <tr>\n",
              "      <th>4</th>\n",
              "      <td>.The ending portion of these Vedas is called U...</td>\n",
              "    </tr>\n",
              "    <tr>\n",
              "      <th>...</th>\n",
              "      <td>...</td>\n",
              "    </tr>\n",
              "    <tr>\n",
              "      <th>177601</th>\n",
              "      <td>He asked you saw tiger or not .</td>\n",
              "    </tr>\n",
              "    <tr>\n",
              "      <th>177602</th>\n",
              "      <td>These words pricked like an arrow .</td>\n",
              "    </tr>\n",
              "    <tr>\n",
              "      <th>177603</th>\n",
              "      <td>I slowly said no .</td>\n",
              "    </tr>\n",
              "    <tr>\n",
              "      <th>177604</th>\n",
              "      <td>There was no permission to take bike inside th...</td>\n",
              "    </tr>\n",
              "    <tr>\n",
              "      <th>177605</th>\n",
              "      <td>Somebody advised us that we should take safari...</td>\n",
              "    </tr>\n",
              "  </tbody>\n",
              "</table>\n",
              "<p>177606 rows × 1 columns</p>\n",
              "</div><br><label><b>dtype:</b> object</label>"
            ]
          },
          "metadata": {},
          "execution_count": 7
        }
      ]
    },
    {
      "cell_type": "code",
      "source": [
        "dh=data['hindi_sentence']"
      ],
      "metadata": {
        "id": "iNmvBXAazH4H"
      },
      "execution_count": null,
      "outputs": []
    },
    {
      "cell_type": "code",
      "source": [
        "dh"
      ],
      "metadata": {
        "colab": {
          "base_uri": "https://localhost:8080/",
          "height": 458
        },
        "id": "Yd0rsodF0EDf",
        "outputId": "80429aa7-61b9-4fae-e051-c260949f8814"
      },
      "execution_count": null,
      "outputs": [
        {
          "output_type": "execute_result",
          "data": {
            "text/plain": [
              "0         राजनीतिज्ञों के पास जो कार्य करना चाहिए, वह कर...\n",
              "1         मई आपको ऐसे ही एक बच्चे के बारे में बताना चाहू...\n",
              "2          यह प्रतिशत भारत में हिन्दुओं प्रतिशत से अधिक है।\n",
              "3            हम ये नहीं कहना चाहते कि वो ध्यान नहीं दे पाते\n",
              "4               इन्हीं वेदों का अंतिम भाग उपनिषद कहलाता है।\n",
              "                                ...                        \n",
              "177601                       उसने पूछा टाइगर देखा या नहीं ।\n",
              "177602                     उसके यह शब्द तीर की तरह चुभ गए ।\n",
              "177603                           मैंने धीरे से कहा , नहीं ।\n",
              "177604           पार्क में बाइक ले जाने की अनुमति नहीं थी ।\n",
              "177605    हमें किसी ने सलाह दी कि आप अंदर के लिए सफारी ल...\n",
              "Name: hindi_sentence, Length: 177606, dtype: object"
            ],
            "text/html": [
              "<div>\n",
              "<style scoped>\n",
              "    .dataframe tbody tr th:only-of-type {\n",
              "        vertical-align: middle;\n",
              "    }\n",
              "\n",
              "    .dataframe tbody tr th {\n",
              "        vertical-align: top;\n",
              "    }\n",
              "\n",
              "    .dataframe thead th {\n",
              "        text-align: right;\n",
              "    }\n",
              "</style>\n",
              "<table border=\"1\" class=\"dataframe\">\n",
              "  <thead>\n",
              "    <tr style=\"text-align: right;\">\n",
              "      <th></th>\n",
              "      <th>hindi_sentence</th>\n",
              "    </tr>\n",
              "  </thead>\n",
              "  <tbody>\n",
              "    <tr>\n",
              "      <th>0</th>\n",
              "      <td>राजनीतिज्ञों के पास जो कार्य करना चाहिए, वह कर...</td>\n",
              "    </tr>\n",
              "    <tr>\n",
              "      <th>1</th>\n",
              "      <td>मई आपको ऐसे ही एक बच्चे के बारे में बताना चाहू...</td>\n",
              "    </tr>\n",
              "    <tr>\n",
              "      <th>2</th>\n",
              "      <td>यह प्रतिशत भारत में हिन्दुओं प्रतिशत से अधिक है।</td>\n",
              "    </tr>\n",
              "    <tr>\n",
              "      <th>3</th>\n",
              "      <td>हम ये नहीं कहना चाहते कि वो ध्यान नहीं दे पाते</td>\n",
              "    </tr>\n",
              "    <tr>\n",
              "      <th>4</th>\n",
              "      <td>इन्हीं वेदों का अंतिम भाग उपनिषद कहलाता है।</td>\n",
              "    </tr>\n",
              "    <tr>\n",
              "      <th>...</th>\n",
              "      <td>...</td>\n",
              "    </tr>\n",
              "    <tr>\n",
              "      <th>177601</th>\n",
              "      <td>उसने पूछा टाइगर देखा या नहीं ।</td>\n",
              "    </tr>\n",
              "    <tr>\n",
              "      <th>177602</th>\n",
              "      <td>उसके यह शब्द तीर की तरह चुभ गए ।</td>\n",
              "    </tr>\n",
              "    <tr>\n",
              "      <th>177603</th>\n",
              "      <td>मैंने धीरे से कहा , नहीं ।</td>\n",
              "    </tr>\n",
              "    <tr>\n",
              "      <th>177604</th>\n",
              "      <td>पार्क में बाइक ले जाने की अनुमति नहीं थी ।</td>\n",
              "    </tr>\n",
              "    <tr>\n",
              "      <th>177605</th>\n",
              "      <td>हमें किसी ने सलाह दी कि आप अंदर के लिए सफारी ल...</td>\n",
              "    </tr>\n",
              "  </tbody>\n",
              "</table>\n",
              "<p>177606 rows × 1 columns</p>\n",
              "</div><br><label><b>dtype:</b> object</label>"
            ]
          },
          "metadata": {},
          "execution_count": 9
        }
      ]
    },
    {
      "cell_type": "markdown",
      "source": [
        "### Preprocessing the data"
      ],
      "metadata": {
        "id": "XEdXQnYaxF4p"
      }
    },
    {
      "cell_type": "code",
      "source": [
        "from transformers import MarianTokenizer\n",
        "\n",
        "# Load the pre-trained MarianTokenizer for English to Hindi translation\n",
        "tokenizer = MarianTokenizer.from_pretrained(\"Helsinki-NLP/opus-mt-en-hi\")\n",
        "\n",
        "# Sample English sentences from your dataset\n",
        "english_sentences = [\n",
        "    \"politicians do not have permission to do what\",\n",
        "    \"I'd like to tell you about one such child\",\n",
        "    \"This percentage is even greater than the perce\",\n",
        "    \"what we really mean is that they're bad at not\",\n",
        "    \".The ending portion of these Vedas is called U\",\n",
        "    \"He asked you saw tiger or not .\",\n",
        "    \"These words pricked like an arrow .\",\n",
        "    \"I slowly said no .\",\n",
        "    \"There was no permission to take b\"\n",
        "]\n",
        "\n",
        "# Tokenize the English sentences\n",
        "tokenized_inputs = tokenizer(english_sentences, truncation=True, padding='max_length', max_length=128, return_tensors=\"tf\")\n",
        "\n",
        "print(tokenized_inputs)\n"
      ],
      "metadata": {
        "colab": {
          "base_uri": "https://localhost:8080/"
        },
        "id": "reG7a9YC0KdI",
        "outputId": "1ddbc1ac-3995-4e57-c8ea-d3f34108e8dd"
      },
      "execution_count": null,
      "outputs": [
        {
          "output_type": "stream",
          "name": "stdout",
          "text": [
            "{'input_ids': <tf.Tensor: shape=(9, 128), dtype=int32, numpy=\n",
            "array([[21770,   110,    36, ..., 61949, 61949, 61949],\n",
            "       [   56,    70,   232, ..., 61949, 61949, 61949],\n",
            "       [  239, 16995,    23, ..., 61949, 61949, 61949],\n",
            "       ...,\n",
            "       [ 1055,   562, 28615, ..., 61949, 61949, 61949],\n",
            "       [   56, 12214,   149, ..., 61949, 61949, 61949],\n",
            "       [  547,    80,   177, ..., 61949, 61949, 61949]], dtype=int32)>, 'attention_mask': <tf.Tensor: shape=(9, 128), dtype=int32, numpy=\n",
            "array([[1, 1, 1, ..., 0, 0, 0],\n",
            "       [1, 1, 1, ..., 0, 0, 0],\n",
            "       [1, 1, 1, ..., 0, 0, 0],\n",
            "       ...,\n",
            "       [1, 1, 1, ..., 0, 0, 0],\n",
            "       [1, 1, 1, ..., 0, 0, 0],\n",
            "       [1, 1, 1, ..., 0, 0, 0]], dtype=int32)>}\n"
          ]
        }
      ]
    },
    {
      "cell_type": "code",
      "source": [
        "# Translate the tokenized English sentences to Hindi\n",
        "tokenized_hindi = tokenizer.batch_decode(tokenized_inputs['input_ids'], skip_special_tokens=True)\n",
        "\n",
        "for english_sentence, hindi_translation in zip(english_sentences, tokenized_hindi):\n",
        "    print(f\"English: {english_sentence}\")\n",
        "    print(f\"Hindi: {hindi_translation}\")\n",
        "    print()\n"
      ],
      "metadata": {
        "colab": {
          "base_uri": "https://localhost:8080/"
        },
        "id": "cQ6w7A1p0o63",
        "outputId": "9167f8d9-c24c-4455-d8c0-0d97778ff8aa"
      },
      "execution_count": null,
      "outputs": [
        {
          "output_type": "stream",
          "name": "stdout",
          "text": [
            "English: politicians do not have permission to do what\n",
            "Hindi: politicians do not have permission to do what\n",
            "\n",
            "English: I'd like to tell you about one such child\n",
            "Hindi: I'd like to tell you about one such child\n",
            "\n",
            "English: This percentage is even greater than the perce\n",
            "Hindi: This percentage is even greater than the perce\n",
            "\n",
            "English: what we really mean is that they're bad at not\n",
            "Hindi: what we really mean is that they're bad at not\n",
            "\n",
            "English: .The ending portion of these Vedas is called U\n",
            "Hindi: .The ending portion of these Vedas is called U\n",
            "\n",
            "English: He asked you saw tiger or not .\n",
            "Hindi: He asked you saw tiger or not.\n",
            "\n",
            "English: These words pricked like an arrow .\n",
            "Hindi: These words pricked like an arrow.\n",
            "\n",
            "English: I slowly said no .\n",
            "Hindi: I slowly said no.\n",
            "\n",
            "English: There was no permission to take b\n",
            "Hindi: There was no permission to take b\n",
            "\n"
          ]
        }
      ]
    },
    {
      "cell_type": "code",
      "source": [
        "# Assuming data is a pandas DataFrame\n",
        "inputs = tokenizer(data['english_sentence'].astype(str).tolist(), truncation=True, padding='max_length', max_length=128, return_tensors=\"pt\")\n",
        "targets = tokenizer(data['hindi_sentence'].astype(str).tolist(), truncation=True, padding='max_length', max_length=128, return_tensors=\"pt\")\n"
      ],
      "metadata": {
        "id": "HE9oL9vj1guS"
      },
      "execution_count": null,
      "outputs": []
    },
    {
      "cell_type": "markdown",
      "source": [
        "### Converting to tensorflow dataset"
      ],
      "metadata": {
        "id": "cjcYRcGVxK_y"
      }
    },
    {
      "cell_type": "code",
      "source": [
        "import tensorflow as tf\n",
        "input_ids=tf.convert_to_tensor(inputs['input_ids'])\n",
        "attention_masks=tf.convert_to_tensor(inputs['attention_mask'])\n",
        "decoder_input_ids=tf.convert_to_tensor(targets['input_ids'])"
      ],
      "metadata": {
        "id": "AlkGpmbXg3J7"
      },
      "execution_count": null,
      "outputs": []
    },
    {
      "cell_type": "markdown",
      "source": [
        "### Shifting decoder_input_ids by one position to the right for teacher forcing"
      ],
      "metadata": {
        "id": "nmr5BjIoxg6B"
      }
    },
    {
      "cell_type": "code",
      "source": [
        "labels=tf.roll(decoder_input_ids,shift=-1,axis=1)\n",
        "labels=tf.where(labels==0,-100,labels)"
      ],
      "metadata": {
        "id": "FhF2s-7yhUWT"
      },
      "execution_count": null,
      "outputs": []
    },
    {
      "cell_type": "markdown",
      "source": [
        "### Creating a tensorflow dataset"
      ],
      "metadata": {
        "id": "HleBpvHpxr5X"
      }
    },
    {
      "cell_type": "code",
      "source": [
        "dataset=tf.data.Dataset.from_tensor_slices(({\n",
        "    'input_ids':input_ids,\n",
        "    'attention_mask':attention_masks,\n",
        "    'decoder_input_ids':decoder_input_ids\n",
        "},labels))\n",
        "dataset=dataset.shuffle(1000).batch(16)"
      ],
      "metadata": {
        "id": "uT3o5WpthlAj"
      },
      "execution_count": null,
      "outputs": []
    },
    {
      "cell_type": "markdown",
      "source": [
        "### Compiling the model"
      ],
      "metadata": {
        "id": "9tHjP_0lx2U1"
      }
    },
    {
      "cell_type": "code",
      "source": [
        "optimizer = tf.keras.optimizers.Adam(learning_rate=5e-5)\n",
        "loss = tf.keras.losses.SparseCategoricalCrossentropy(from_logits=True)\n",
        "model.compile(optimizer=optimizer, loss=loss)"
      ],
      "metadata": {
        "id": "MPbXMqtYhuF8"
      },
      "execution_count": null,
      "outputs": []
    },
    {
      "cell_type": "markdown",
      "source": [
        "### Fitting the model"
      ],
      "metadata": {
        "id": "MQaVH7tHx5X9"
      }
    },
    {
      "cell_type": "code",
      "source": [
        "model.fit(dataset, epochs=1)"
      ],
      "metadata": {
        "colab": {
          "base_uri": "https://localhost:8080/"
        },
        "id": "A0Gq4UvGh5hl",
        "outputId": "570e378d-2b07-4647-c7ae-05daf3aebab4"
      },
      "execution_count": null,
      "outputs": [
        {
          "output_type": "stream",
          "name": "stdout",
          "text": [
            "11101/11101 [==============================] - 4314s 381ms/step - loss: nan\n"
          ]
        },
        {
          "output_type": "execute_result",
          "data": {
            "text/plain": [
              "<tf_keras.src.callbacks.History at 0x7966ddf6f9d0>"
            ]
          },
          "metadata": {},
          "execution_count": 17
        }
      ]
    },
    {
      "cell_type": "markdown",
      "source": [
        "### Translating English to Hindi"
      ],
      "metadata": {
        "id": "fRMcNlyrx-FV"
      }
    },
    {
      "cell_type": "code",
      "source": [
        "text=\"gopika is a girl\"\n",
        "input_ids = tokenizer.encode(text, return_tensors=\"tf\")\n",
        "generated_ids = model.generate(input_ids, max_length=128, num_beams=4, early_stopping=True)\n",
        "translated_text = tokenizer.decode(generated_ids[0], skip_special_tokens=True)\n",
        "print(\"Translated Hindi text: \", translated_text)"
      ],
      "metadata": {
        "id": "nh2_IgzBpae9",
        "colab": {
          "base_uri": "https://localhost:8080/"
        },
        "outputId": "522077ac-0204-4778-b469-12423296fac7"
      },
      "execution_count": null,
      "outputs": [
        {
          "output_type": "stream",
          "name": "stdout",
          "text": [
            "Translated Hindi text:  fellow\n"
          ]
        }
      ]
    },
    {
      "cell_type": "code",
      "source": [],
      "metadata": {
        "id": "PNINmH4cqDab"
      },
      "execution_count": null,
      "outputs": []
    }
  ]
}